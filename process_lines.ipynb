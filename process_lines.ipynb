{
 "cells": [
  {
   "cell_type": "code",
   "execution_count": 4,
   "metadata": {},
   "outputs": [],
   "source": [
    "import json\n",
    "import geopandas as gp\n",
    "from shapely.geometry import Point, LineString, Polygon"
   ]
  },
  {
   "cell_type": "code",
   "execution_count": 2,
   "metadata": {},
   "outputs": [],
   "source": [
    "# these are the unedited data from Ollie O'Brien's vis repo (https://github.com/oobrien/vis)\n",
    "with open(\"static/tfl_lines.geojson\", 'r') as f:            \n",
    "    gj = json.loads(f.read()) "
   ]
  },
  {
   "cell_type": "code",
   "execution_count": 3,
   "metadata": {},
   "outputs": [],
   "source": [
    "# Some segments belong to multiple lines\n",
    "# We need to build new LineStrings with each of these\n",
    "# this results in a small amount of duplication but that's OK\n",
    "new_features = []\n",
    "for feature in gj['features']:\n",
    "    num_lines = len(feature['properties']['lines'])\n",
    "    if num_lines > 1:\n",
    "        for segment in feature['properties']['lines'][1:]:\n",
    "            new_feature = feature\n",
    "            new_feature['properties']['line_name'] = segment['name']\n",
    "            new_feature['properties']['shared'] = True\n",
    "            new_features.append(\n",
    "                new_feature\n",
    "            )\n",
    "    else:\n",
    "        feature['properties']['shared'] = False"
   ]
  },
  {
   "cell_type": "code",
   "execution_count": 4,
   "metadata": {},
   "outputs": [],
   "source": [
    "# assign a new line_name property to existing features\n",
    "for feature in gj['features']:                              \n",
    "    feature['properties']['line_name'] = feature['properties']['lines'][0]['name']"
   ]
  },
  {
   "cell_type": "code",
   "execution_count": null,
   "metadata": {},
   "outputs": [],
   "source": [
    "# combine existing and new features\n",
    "gj['features'] = gj['features'] + new_features"
   ]
  },
  {
   "cell_type": "code",
   "execution_count": 6,
   "metadata": {},
   "outputs": [],
   "source": [
    "# remove 'lines' property, since we don't need it any more\n",
    "for feature in gj['features']:\n",
    "    try:\n",
    "        del feature['properties']['lines']\n",
    "    except KeyError:\n",
    "        pass"
   ]
  },
  {
   "cell_type": "code",
   "execution_count": 7,
   "metadata": {},
   "outputs": [],
   "source": [
    "with open(\"static/tfl_lines_edited.geojson\", 'w') as g:\n",
    "    json.dump(gj, g)"
   ]
  },
  {
   "cell_type": "code",
   "execution_count": 5,
   "metadata": {},
   "outputs": [],
   "source": [
    "df = gp.read_file(\"static/tfl_lines_edited.geojson\")"
   ]
  },
  {
   "cell_type": "code",
   "execution_count": 6,
   "metadata": {},
   "outputs": [],
   "source": [
    "# Mapbox GL can only extrude polygons.\n",
    "# LineStrings can be converted into Polygons by buffering them\n",
    "# choose an appropriate width here\n",
    "df.geometry = df.geometry.buffer(0.000100)"
   ]
  },
  {
   "cell_type": "code",
   "execution_count": 7,
   "metadata": {},
   "outputs": [],
   "source": [
    "# fix up other unfamiliar lines\n",
    "df['line_name'] = df['line_name'].replace('East London', 'London Overground')\n",
    "df['line_name'] = df['line_name'].replace('Crossrail 2', 'Crossrail')\n",
    "df['line_name'] = df['line_name'].replace('TfL Rail', 'Crossrail')"
   ]
  },
  {
   "cell_type": "code",
   "execution_count": 10,
   "metadata": {},
   "outputs": [
    {
     "name": "stdout",
     "output_type": "stream",
     "text": [
      "array([u'London Overground', u'Victoria', u'Piccadilly', u'District',\n",
      "       u'Circle', u'Hammersmith & City', u'Metropolitan', u'Central',\n",
      "       u'Jubilee', u'DLR', u'Bakerloo', u'Northern', u'Waterloo & City',\n",
      "       'Crossrail', u'Tramlink', u'Emirates Air Line'], dtype=object)\n"
     ]
    }
   ],
   "source": [
    "df.line_name.unique()"
   ]
  },
  {
   "cell_type": "code",
   "execution_count": 36,
   "metadata": {},
   "outputs": [],
   "source": [
    "df.to_file(\"static/tube_polygons.geojson\", driver=\"GeoJSON\")"
   ]
  },
  {
   "cell_type": "code",
   "execution_count": null,
   "metadata": {},
   "outputs": [],
   "source": []
  }
 ],
 "metadata": {
  "kernelspec": {
   "display_name": "Python 2",
   "language": "python",
   "name": "python2"
  },
  "language_info": {
   "codemirror_mode": {
    "name": "ipython",
    "version": 2
   },
   "file_extension": ".py",
   "mimetype": "text/x-python",
   "name": "python",
   "nbconvert_exporter": "python",
   "pygments_lexer": "ipython2",
   "version": "2.7.15"
  }
 },
 "nbformat": 4,
 "nbformat_minor": 2
}
