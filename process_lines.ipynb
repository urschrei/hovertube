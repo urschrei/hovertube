{
 "cells": [
  {
   "cell_type": "code",
   "execution_count": 1,
   "metadata": {},
   "outputs": [],
   "source": [
    "import json\n",
    "import geopandas as gp\n",
    "from shapely.geometry import Point, LineString, Polygon"
   ]
  },
  {
   "cell_type": "code",
   "execution_count": 2,
   "metadata": {},
   "outputs": [],
   "source": [
    "# these are the unedited data from Ollie O'Brien's vis repo (https://github.com/oobrien/vis)\n",
    "with open(\"static/tfl_lines.geojson\", 'r') as f:            \n",
    "    gj = json.loads(f.read()) "
   ]
  },
  {
   "cell_type": "code",
   "execution_count": 3,
   "metadata": {},
   "outputs": [],
   "source": [
    "# Some segments belong to multiple lines\n",
    "# We need to build new LineStrings with each of these\n",
    "# this results in a small amount of duplication but that's OK\n",
    "new_features = []\n",
    "for feature in gj['features']:\n",
    "    num_lines = len(feature['properties']['lines'])\n",
    "    if num_lines > 1:\n",
    "        for segment in feature['properties']['lines'][1:]:\n",
    "            new_feature = feature\n",
    "            new_feature['properties']['line_name'] = segment['name']\n",
    "            new_feature['properties']['shared'] = True\n",
    "            new_features.append(\n",
    "                new_feature\n",
    "            )\n",
    "    else:\n",
    "        feature['properties']['shared'] = False"
   ]
  },
  {
   "cell_type": "code",
   "execution_count": 4,
   "metadata": {},
   "outputs": [],
   "source": [
    "# assign a new line_name property to existing features\n",
    "for feature in gj['features']:                              \n",
    "    feature['properties']['line_name'] = feature['properties']['lines'][0]['name']"
   ]
  },
  {
   "cell_type": "code",
   "execution_count": 5,
   "metadata": {},
   "outputs": [],
   "source": [
    "# combine existing and new features\n",
    "gj['features'] = gj['features'] + new_features"
   ]
  },
  {
   "cell_type": "code",
   "execution_count": 6,
   "metadata": {},
   "outputs": [],
   "source": [
    "# remove 'lines' property, since we don't need it any more\n",
    "for feature in gj['features']:\n",
    "    try:\n",
    "        del feature['properties']['lines']\n",
    "    except KeyError:\n",
    "        pass"
   ]
  },
  {
   "cell_type": "code",
   "execution_count": 7,
   "metadata": {},
   "outputs": [],
   "source": [
    "with open(\"static/tfl_lines_edited.geojson\", 'w') as g:\n",
    "    json.dump(gj, g)"
   ]
  },
  {
   "cell_type": "code",
   "execution_count": 8,
   "metadata": {},
   "outputs": [],
   "source": [
    "df = gp.read_file(\"static/tfl_lines_edited.geojson\")"
   ]
  },
  {
   "cell_type": "code",
   "execution_count": 9,
   "metadata": {},
   "outputs": [
    {
     "data": {
      "text/html": [
       "<div>\n",
       "<style scoped>\n",
       "    .dataframe tbody tr th:only-of-type {\n",
       "        vertical-align: middle;\n",
       "    }\n",
       "\n",
       "    .dataframe tbody tr th {\n",
       "        vertical-align: top;\n",
       "    }\n",
       "\n",
       "    .dataframe thead th {\n",
       "        text-align: right;\n",
       "    }\n",
       "</style>\n",
       "<table border=\"1\" class=\"dataframe\">\n",
       "  <thead>\n",
       "    <tr style=\"text-align: right;\">\n",
       "      <th></th>\n",
       "      <th>id</th>\n",
       "      <th>shared</th>\n",
       "      <th>line_name</th>\n",
       "      <th>geometry</th>\n",
       "    </tr>\n",
       "  </thead>\n",
       "  <tbody>\n",
       "    <tr>\n",
       "      <th>0</th>\n",
       "      <td>LeaValleyLine1</td>\n",
       "      <td>False</td>\n",
       "      <td>London Overground</td>\n",
       "      <td>LINESTRING (-0.05941 51.52391, -0.05910 51.523...</td>\n",
       "    </tr>\n",
       "    <tr>\n",
       "      <th>1</th>\n",
       "      <td>LeaValleyLine2</td>\n",
       "      <td>False</td>\n",
       "      <td>London Overground</td>\n",
       "      <td>LINESTRING (-0.05760 51.53245, -0.05767 51.532...</td>\n",
       "    </tr>\n",
       "    <tr>\n",
       "      <th>2</th>\n",
       "      <td>LeaValleyLine3</td>\n",
       "      <td>False</td>\n",
       "      <td>London Overground</td>\n",
       "      <td>LINESTRING (-0.05785 51.54118, -0.05780 51.541...</td>\n",
       "    </tr>\n",
       "    <tr>\n",
       "      <th>3</th>\n",
       "      <td>LeaValleyLine4</td>\n",
       "      <td>False</td>\n",
       "      <td>London Overground</td>\n",
       "      <td>LINESTRING (-0.06116 51.54909, -0.06122 51.549...</td>\n",
       "    </tr>\n",
       "    <tr>\n",
       "      <th>4</th>\n",
       "      <td>LeaValleyLine5</td>\n",
       "      <td>False</td>\n",
       "      <td>London Overground</td>\n",
       "      <td>LINESTRING (-0.06845 51.55866, -0.06868 51.559...</td>\n",
       "    </tr>\n",
       "  </tbody>\n",
       "</table>\n",
       "</div>"
      ],
      "text/plain": [
       "               id  shared          line_name  \\\n",
       "0  LeaValleyLine1   False  London Overground   \n",
       "1  LeaValleyLine2   False  London Overground   \n",
       "2  LeaValleyLine3   False  London Overground   \n",
       "3  LeaValleyLine4   False  London Overground   \n",
       "4  LeaValleyLine5   False  London Overground   \n",
       "\n",
       "                                            geometry  \n",
       "0  LINESTRING (-0.05941 51.52391, -0.05910 51.523...  \n",
       "1  LINESTRING (-0.05760 51.53245, -0.05767 51.532...  \n",
       "2  LINESTRING (-0.05785 51.54118, -0.05780 51.541...  \n",
       "3  LINESTRING (-0.06116 51.54909, -0.06122 51.549...  \n",
       "4  LINESTRING (-0.06845 51.55866, -0.06868 51.559...  "
      ]
     },
     "execution_count": 9,
     "metadata": {},
     "output_type": "execute_result"
    }
   ],
   "source": [
    "df.head()"
   ]
  },
  {
   "cell_type": "code",
   "execution_count": 10,
   "metadata": {},
   "outputs": [
    {
     "name": "stderr",
     "output_type": "stream",
     "text": [
      "/var/folders/wy/kj5lv5hx1g78fzmjjm64q4340000gn/T/ipykernel_3285/3974467899.py:4: UserWarning: Geometry is in a geographic CRS. Results from 'buffer' are likely incorrect. Use 'GeoSeries.to_crs()' to re-project geometries to a projected CRS before this operation.\n",
      "\n",
      "  df.geometry = df.geometry.buffer(0.000100)\n"
     ]
    }
   ],
   "source": [
    "# Mapbox GL can only extrude polygons.\n",
    "# LineStrings can be converted into Polygons by buffering them\n",
    "# choose an appropriate width here\n",
    "df.geometry = df.geometry.buffer(0.000100)\n",
    "# simplify polygons a little bit. Threshold may need to be fine-tuned\n",
    "df.geometry = df.geometry.simplify(0.0000001)"
   ]
  },
  {
   "cell_type": "code",
   "execution_count": 12,
   "metadata": {},
   "outputs": [],
   "source": [
    "# fix up other unfamiliar lines\n",
    "df['line_name'] = df['line_name'].replace('East London', 'London Overground')\n",
    "df['line_name'] = df['line_name'].replace('Crossrail 2', 'Crossrail')\n",
    "df['line_name'] = df['line_name'].replace('TfL Rail', 'Crossrail')"
   ]
  },
  {
   "cell_type": "code",
   "execution_count": 13,
   "metadata": {},
   "outputs": [
    {
     "data": {
      "text/plain": [
       "array(['London Overground', 'Victoria', 'Piccadilly', 'District',\n",
       "       'Circle', 'Hammersmith & City', 'Metropolitan', 'Central',\n",
       "       'Jubilee', 'DLR', 'Bakerloo', 'Northern', 'Waterloo & City',\n",
       "       'Elizabeth line', 'Tramlink', 'Crossrail', 'IFS Cloud Cable Car',\n",
       "       'Thameslink 6tph line'], dtype=object)"
      ]
     },
     "execution_count": 13,
     "metadata": {},
     "output_type": "execute_result"
    }
   ],
   "source": [
    "df.line_name.unique()"
   ]
  },
  {
   "cell_type": "code",
   "execution_count": 14,
   "metadata": {},
   "outputs": [],
   "source": [
    "df.to_file(\"static/tube_polygons.geojson\", driver=\"GeoJSON\")"
   ]
  },
  {
   "cell_type": "markdown",
   "metadata": {},
   "source": [
    "- Shell out to: `ogr2ogr -f \"GeoJSON\" -lco COORDINATE_PRECISION=7 static/tube_polygons_trimmed.geojson static/tube_polygons.geojson`\n",
    "- `rm static/tube_polygons.geojson`\n",
    "- `mv static/tube_polygons_trimmed.geojson static/tube_polygons.geojson`"
   ]
  },
  {
   "cell_type": "code",
   "execution_count": null,
   "metadata": {},
   "outputs": [],
   "source": []
  }
 ],
 "metadata": {
  "kernelspec": {
   "display_name": "Python 3 (ipykernel)",
   "language": "python",
   "name": "python3"
  },
  "language_info": {
   "codemirror_mode": {
    "name": "ipython",
    "version": 3
   },
   "file_extension": ".py",
   "mimetype": "text/x-python",
   "name": "python",
   "nbconvert_exporter": "python",
   "pygments_lexer": "ipython3",
   "version": "3.11.4"
  }
 },
 "nbformat": 4,
 "nbformat_minor": 4
}
